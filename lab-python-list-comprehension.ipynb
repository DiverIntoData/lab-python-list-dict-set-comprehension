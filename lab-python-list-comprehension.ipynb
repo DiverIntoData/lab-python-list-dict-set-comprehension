{
 "cells": [
  {
   "cell_type": "markdown",
   "id": "25d7736c-ba17-4aff-b6bb-66eba20fbf4e",
   "metadata": {},
   "source": [
    "# Lab | List, Dict and Set Comprehension"
   ]
  },
  {
   "cell_type": "markdown",
   "id": "7dd3cbde-675a-4b81-92c3-f728846dbe06",
   "metadata": {},
   "source": [
    "## Exercise: Managing Customer Orders Optimized with Comprehension"
   ]
  },
  {
   "cell_type": "markdown",
   "id": "5d500160-2fb7-4777-b5e4-09d45ebaf328",
   "metadata": {},
   "source": [
    "In the previous exercise, you developed a program to manage customer orders and inventory. Now, let's take it a step further and incorporate comprehension into your code.\n",
    "\n",
    "Follow the steps below to complete the exercise:\n",
    "\n",
    "1. Review your code from the previous exercise and identify areas where you can apply comprehension to simplify and streamline your code. \n",
    "\n",
    "    - *Hint: Apply it to initialize inventory, updating the inventory and printing the updated inventory.*\n",
    "    \n",
    "    - For example, in initializing the inventory, we could have:\n",
    "    \n",
    "        ```python\n",
    "        def initialize_inventory(products):\n",
    "            inventory = {product: int(input(f\"Enter the quantity of {product}s available: \")) for product in products}\n",
    "            return inventory\n",
    "\n",
    "        ```\n",
    "<br>\n",
    "    \n",
    "    \n",
    "2. Modify the function get_customer_orders so it prompts the user to enter the number of customer orders and gathers the product names using a loop and user input. Use comprehension.\n",
    "\n",
    "3. Add a new function to calculate the total price of the customer order. For each product in customer_orders, prompt the user to enter the price of that product. Use comprehension to calculate the total price. Note: assume that the user can only have 1 unit of each product.\n",
    "\n",
    "4. Modify the update_inventory function to remove the product from the inventory if its quantity becomes zero after fulfilling the customer orders. Use comprehension to filter out the products with a quantity of zero from the inventory.\n",
    "\n",
    "5. Print the total price of the customer order.\n",
    "\n",
    "Your code should produce output similar to the following:\n",
    "\n",
    "```python\n",
    "Enter the quantity of t-shirts available:  5\n",
    "Enter the quantity of mugs available:  4\n",
    "Enter the quantity of hats available:  3\n",
    "Enter the quantity of books available:  2\n",
    "Enter the quantity of keychains available:  1\n",
    "Enter the number of customer orders:  2\n",
    "Enter the name of a product that a customer wants to order:  hat\n",
    "Enter the name of a product that a customer wants to order:  keychain\n",
    "\n",
    "Order Statistics:\n",
    "Total Products Ordered: 2\n",
    "Percentage of Unique Products Ordered: 40.0\n",
    "\n",
    "Updated Inventory:\n",
    "t-shirt: 5\n",
    "mug: 4\n",
    "hat: 2\n",
    "book: 2\n",
    "Enter the price of keychain:  5\n",
    "Enter the price of hat:  10\n",
    "Total Price: 15.0\n",
    "\n",
    "```\n"
   ]
  },
  {
   "cell_type": "markdown",
   "id": "5d3f1146",
   "metadata": {},
   "source": [
    "# Code lab 2.2"
   ]
  },
  {
   "cell_type": "code",
   "execution_count": 10,
   "id": "b4cde147",
   "metadata": {},
   "outputs": [
    {
     "name": "stdout",
     "output_type": "stream",
     "text": [
      "\n",
      "Total Products Ordered: 1\n",
      "Percentage of Products Ordered: 1.01%\n",
      "\n",
      "Inventory of t-shirt is: 20\n",
      "Inventory of mug is: 20\n",
      "Inventory of hat is: 19\n",
      "Inventory of book is: 20\n",
      "Inventory of keychain is: 20\n"
     ]
    }
   ],
   "source": [
    "# Create a product list and inventory dictionary\n",
    "products = [\"t-shirt\", \"mug\", \"hat\", \"book\", \"keychain\"]\n",
    "inventory = {}\n",
    "\n",
    "def initialize_inventory(products):\n",
    "  # Populate the QTY inventory of each product\n",
    "  inventory = {} # Remove the previous inventory\n",
    "  for i in products:\n",
    "    quantity = int(input(f\"How many units in inventory of {i}: \"))\n",
    "    inventory[i] = quantity\n",
    "  return inventory\n",
    "\n",
    "inventory = initialize_inventory(products)\n",
    "\n",
    "def get_customer_orders():\n",
    "    customer_orders = set()  # Create an empty set for the customer orders\n",
    "    order_more = input(\"Do you want to order anything? yes/no \")  # Ask if the user wants to order\n",
    "\n",
    "    # Make sure customer enters 'yes' or 'no'\n",
    "    while order_more != \"yes\" and order_more != \"no\":\n",
    "        order_more = input(\"Invalid entry. Do you want to order anything? yes/no \")\n",
    "\n",
    "    # Variable to track number of items ordered\n",
    "    n_product_ordered = 1\n",
    "\n",
    "    # Continue to ask for orders while the answer is 'yes'\n",
    "    while order_more == \"yes\":\n",
    "        order = input(f\"For product {n_product_ordered}, what do you want to order? \")  # Get product name\n",
    "        n_product_ordered += 1\n",
    "        order_more = input(\"Do you want to order anything else? yes/no \")  # Ask if the user wants to order more\n",
    "        customer_orders.add(order)\n",
    "\n",
    "    return customer_orders\n",
    "\n",
    "customer_orders = get_customer_orders()  # Call the function to get customer orders\n",
    "\n",
    "customer_orders\n",
    "\n",
    "\n",
    "# Function to update the inventory\n",
    "def update_inventory(customer_orders, inventory):\n",
    "  # Convert customer_orders (set) to a list for operation\n",
    "  customer_orders_list = list(customer_orders)\n",
    "  # Reduce QTY of the inventory\n",
    "  for i in customer_orders_list:\n",
    "      inventory[i] = inventory[i] - 1\n",
    "  return inventory\n",
    "\n",
    "update_inventory(customer_orders, inventory)\n",
    "\n",
    "\n",
    "# Function to calculate statistics about the order\n",
    "\n",
    " ## Create an empty list to store the result\n",
    "order_statistics = []\n",
    "\n",
    "def calculate_order_statistics(customer_orders, products):\n",
    "  products_ordered = len(customer_orders)\n",
    "  percent_ord_inv = \"{:.2%}\".format(len(customer_orders)/sum(inventory.values()))\n",
    "  # Add the information to order_statistics\n",
    "  order_statistics.append(products_ordered)\n",
    "  order_statistics.append(percent_ord_inv)\n",
    "  return products_ordered, percent_ord_inv\n",
    "\n",
    "calculate_order_statistics(customer_orders, products)\n",
    "\n",
    "\n",
    "# Function to print the statistics of the order\n",
    "def print_order_statistics(order_statistics):\n",
    "  print(f\"\\nTotal Products Ordered: {order_statistics[0]}\")\n",
    "  print(f\"Percentage of Products Ordered: {order_statistics[1]}\\n\")\n",
    "\n",
    "print_order_statistics(order_statistics)\n",
    "\n",
    "\n",
    "def print_updated_inventor(inventory):\n",
    "  for i in inventory.keys():\n",
    "    print(f\"Inventory of {i} is: {inventory[i]}\")\n",
    "\n",
    "print_updated_inventor(inventory)"
   ]
  },
  {
   "cell_type": "markdown",
   "id": "8b4481ee",
   "metadata": {},
   "source": [
    "\n",
    "1. Review your code from the previous exercise and identify areas where you can apply comprehension to simplify and streamline your code. \n",
    "\n",
    "    - *Hint: Apply it to initialize inventory, updating the inventory and printing the updated inventory.*\n",
    "    \n",
    "    - For example, in initializing the inventory, we could have:\n",
    "    \n",
    "        ```python\n",
    "        def initialize_inventory(products):\n",
    "            inventory = {product: int(input(f\"Enter the quantity of {product}s available: \")) for product in products}\n",
    "            return inventory"
   ]
  },
  {
   "cell_type": "code",
   "execution_count": 67,
   "id": "175ad978",
   "metadata": {},
   "outputs": [
    {
     "data": {
      "text/plain": [
       "{'t-shirt': 12, 'mug': 12, 'hat': 12, 'book': 12, 'keychain': 12}"
      ]
     },
     "execution_count": 67,
     "metadata": {},
     "output_type": "execute_result"
    }
   ],
   "source": [
    "# Apply comprehension on initialize inventory function\n",
    "\n",
    "def initialize_inventory(products):\n",
    "    # Use dictionary comprehension to create the inventory\n",
    "    inventory = {product: int(input(f\"How many units in inventory of {product}: \")) for product in products}\n",
    "    return inventory\n",
    "\n",
    "inventory = initialize_inventory(products)\n",
    "\n",
    "inventory"
   ]
  },
  {
   "cell_type": "code",
   "execution_count": 194,
   "id": "760a547f",
   "metadata": {},
   "outputs": [
    {
     "data": {
      "text/plain": [
       "{'t-shirt': 10, 'mug': 8, 'hat': 8, 'book': 10, 'keychain': 10}"
      ]
     },
     "execution_count": 195,
     "metadata": {},
     "output_type": "execute_result"
    }
   ],
   "source": [
    "\n",
    "# Apply comprehension on updating inventory function\n",
    "\n",
    "# Function to update the inventory\n",
    "def update_inventory(customer_orders, inventory):\n",
    "    # Convert customer_orders (set) to a list for operation\n",
    "    customer_orders_list = list(customer_orders)\n",
    "    \n",
    "    # Reduce QTY of the inventory using dictionary comprehension\n",
    "    inventory = {i: inventory[i]-1 if i in customer_orders_list else inventory[i] for i in inventory}\n",
    "    \n",
    "    return inventory\n",
    "\n",
    "inventory = update_inventory(customer_orders, inventory)\n",
    "\n",
    "inventory"
   ]
  },
  {
   "cell_type": "code",
   "execution_count": 124,
   "id": "d7cf6af4",
   "metadata": {},
   "outputs": [
    {
     "name": "stdout",
     "output_type": "stream",
     "text": [
      "Inventory of t-shirt is: 12\n",
      "Inventory of mug is: 11\n",
      "Inventory of hat is: 9\n",
      "Inventory of book is: 12\n",
      "Inventory of keychain is: 12\n"
     ]
    }
   ],
   "source": [
    "# Apply comprehension on printing the updated inventory\n",
    "\n",
    "def print_updated_inventory(inventory):\n",
    "    [print(f\"Inventory of {i} is: {inventory[i]}\") for i in inventory.keys()]\n",
    "\n",
    "print_updated_inventory(inventory)"
   ]
  },
  {
   "cell_type": "markdown",
   "id": "ef055870",
   "metadata": {},
   "source": [
    "2. Modify the function get_customer_orders so it prompts the user to enter the number of customer orders and gathers the product names using a loop and user input. Use comprehension."
   ]
  },
  {
   "cell_type": "code",
   "execution_count": 154,
   "id": "55592b59",
   "metadata": {},
   "outputs": [
    {
     "data": {
      "text/plain": [
       "{'hat', 'mug'}"
      ]
     },
     "execution_count": 154,
     "metadata": {},
     "output_type": "execute_result"
    }
   ],
   "source": [
    "# Apply comprehension ot get_customer orders. I had to approach the question in a different way to be able to use comprehension while asking for the inventory\n",
    "def get_customer_orders():\n",
    "    customer_orders = set()  # Create an empty set for the customer orders\n",
    "\n",
    "    # Ask customer how many times they want to order\n",
    "    n_items_order = int(input(\"How many items do you want to order? \"))\n",
    "\n",
    "    # Get item ordered\n",
    "    customer_orders = {input(f\"What item do you want for order {i+1}? Items in inventory are: {[item for item in inventory.keys()]}\") for i in range(0, n_items_order)}\n",
    "        \n",
    "    return customer_orders\n",
    "\n",
    "customer_orders = get_customer_orders()  # Call the function to get customer orders\n",
    "\n",
    "customer_orders"
   ]
  },
  {
   "cell_type": "markdown",
   "id": "4f2b6b15",
   "metadata": {},
   "source": [
    "3. Add a new function to calculate the total price of the customer order. For each product in customer_orders, prompt the user to enter the price of that product. Use comprehension to calculate the total price. Note: assume that the user can only have 1 unit of each product."
   ]
  },
  {
   "cell_type": "code",
   "execution_count": 218,
   "id": "c3cab65e",
   "metadata": {},
   "outputs": [],
   "source": [
    "# Create a function that retuns the total price of the order based on price given\n",
    "def order_price(customer_orders):\n",
    "    total_order_price = sum([int(input(f\"What is the price of {i}? \")) for i in customer_orders])\n",
    "    return total_order_price\n",
    "\n",
    "total_order_price = order_price(customer_orders)"
   ]
  },
  {
   "cell_type": "markdown",
   "id": "0219d965",
   "metadata": {},
   "source": [
    "4. Modify the update_inventory function to remove the product from the inventory if its quantity becomes zero after fulfilling the customer orders. Use comprehension to filter out the products with a quantity of zero from the inventory."
   ]
  },
  {
   "cell_type": "code",
   "execution_count": 216,
   "id": "de67bdce",
   "metadata": {},
   "outputs": [
    {
     "data": {
      "text/plain": [
       "{'t-shirt': 12, 'book': 12, 'keychain': 12}"
      ]
     },
     "execution_count": 216,
     "metadata": {},
     "output_type": "execute_result"
    }
   ],
   "source": [
    "# Apply comprehension on updating inventory function\n",
    "\n",
    "# Function to update the inventory\n",
    "def update_inventory(customer_orders, inventory):\n",
    "    # Convert customer_orders (set) to a list for operation\n",
    "    customer_orders_list = list(customer_orders)\n",
    "    \n",
    "    # Reduce QTY of the inventory using dictionary comprehension\n",
    "    inventory = {i: inventory[i]-1 if i in customer_orders_list else inventory[i] for i in inventory}\n",
    "\n",
    "    # If run out of stock, remove item from inventory\n",
    "    inventory = {k: v for k, v in inventory.items() if v > 0}\n",
    "    return inventory\n",
    "\n",
    "inventory = update_inventory(customer_orders, inventory)\n",
    "\n",
    "inventory"
   ]
  },
  {
   "cell_type": "markdown",
   "id": "bfb7b077",
   "metadata": {},
   "source": [
    "5. Print the total price of the customer order."
   ]
  },
  {
   "cell_type": "code",
   "execution_count": 219,
   "id": "1c269899",
   "metadata": {},
   "outputs": [
    {
     "data": {
      "text/plain": [
       "21"
      ]
     },
     "execution_count": 219,
     "metadata": {},
     "output_type": "execute_result"
    }
   ],
   "source": [
    "total_order_price"
   ]
  }
 ],
 "metadata": {
  "kernelspec": {
   "display_name": "base",
   "language": "python",
   "name": "python3"
  },
  "language_info": {
   "codemirror_mode": {
    "name": "ipython",
    "version": 3
   },
   "file_extension": ".py",
   "mimetype": "text/x-python",
   "name": "python",
   "nbconvert_exporter": "python",
   "pygments_lexer": "ipython3",
   "version": "3.12.4"
  }
 },
 "nbformat": 4,
 "nbformat_minor": 5
}
